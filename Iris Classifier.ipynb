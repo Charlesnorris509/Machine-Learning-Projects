{
 "cells": [
  {
   "cell_type": "code",
   "execution_count": 1,
   "metadata": {},
   "outputs": [
    {
     "name": "stdout",
     "output_type": "stream",
     "text": [
      ".. _iris_dataset:\n",
      "\n",
      "Iris plants dataset\n",
      "--------------------\n",
      "\n",
      "**Data Set Characteristics:**\n",
      "\n",
      "    :Number of Instances: 150 (50 in each of three classes)\n",
      "    :Number of Attributes: 4 numeric, predictive attributes and the class\n",
      "    :Attribute Information:\n",
      "        - sepal length in cm\n",
      "        - sepal width in cm\n",
      "        - petal length in cm\n",
      "        - petal width in cm\n",
      "        - class:\n",
      "                - Iris-Setosa\n",
      "                - Iris-Versicolour\n",
      "                - Iris-Virginica\n",
      "                \n",
      "    :Summary Statistics:\n",
      "\n",
      "    ============== ==== ==== ======= ===== ====================\n",
      "                    Min  Max   Mean    SD   Class Correlation\n",
      "    ============== ==== ==== ======= ===== ====================\n",
      "    sepal length:   4.3  7.9   5.84   0.83    0.7826\n",
      "    sepal width:    2.0  4.4   3.05   0.43   -0.4194\n",
      "    petal length:   1.0  6.9   3.76   1.76    0.9490  (high!)\n",
      "    petal width:    0.1  2.5   1.20   0.76    0.9565  (high!)\n",
      "    ============== ==== ==== ======= ===== ====================\n",
      "\n",
      "    :Missing Attribute Values: None\n",
      "    :Class Distribution: 33.3% for each of 3 classes.\n",
      "    :Creator: R.A. Fisher\n",
      "    :Donor: Michael Marshall (MARSHALL%PLU@io.arc.nasa.gov)\n",
      "    :Date: July, 1988\n",
      "\n",
      "The famous Iris database, first used by Sir R.A. Fisher. The dataset is taken\n",
      "from Fisher's paper. Note that it's the same as in R, but not as in the UCI\n",
      "Machine Learning Repository, which has two wrong data points.\n",
      "\n",
      "This is perhaps the best known database to be found in the\n",
      "pattern recognition literature.  Fisher's paper is a classic in the field and\n",
      "is referenced frequently to this day.  (See Duda & Hart, for example.)  The\n",
      "data set contains 3 classes of 50 instances each, where each class refers to a\n",
      "type of iris plant.  One class is linearly separable from the other 2; the\n",
      "latter are NOT linearly separable from each other.\n",
      "\n",
      ".. topic:: References\n",
      "\n",
      "   - Fisher, R.A. \"The use of multiple measurements in taxonomic problems\"\n",
      "     Annual Eugenics, 7, Part II, 179-188 (1936); also in \"Contributions to\n",
      "     Mathematical Statistics\" (John Wiley, NY, 1950).\n",
      "   - Duda, R.O., & Hart, P.E. (1973) Pattern Classification and Scene Analysis.\n",
      "     (Q327.D83) John Wiley & Sons.  ISBN 0-471-22361-1.  See page 218.\n",
      "   - Dasarathy, B.V. (1980) \"Nosing Around the Neighborhood: A New System\n",
      "     Structure and Classification Rule for Recognition in Partially Exposed\n",
      "     Environments\".  IEEE Transactions on Pattern Analysis and Machine\n",
      "     Intelligence, Vol. PAMI-2, No. 1, 67-71.\n",
      "   - Gates, G.W. (1972) \"The Reduced Nearest Neighbor Rule\".  IEEE Transactions\n",
      "     on Information Theory, May 1972, 431-433.\n",
      "   - See also: 1988 MLC Proceedings, 54-64.  Cheeseman et al\"s AUTOCLASS II\n",
      "     conceptual clustering system finds 3 classes in the data.\n",
      "   - Many, many more ...\n"
     ]
    }
   ],
   "source": [
    "#This is the implementation of a Iris Classifier using sklearn library\n",
    "#Using python 3.7.1\n",
    "\n",
    "#Importing DS standard modules\n",
    "import pandas as pd\n",
    "import numpy as np\n",
    "import seaborn as sns\n",
    "import matplotlib.pyplot as plt\n",
    "sns.set()\n",
    "\n",
    "#Importing The Datasets and Analyzinf its characteristics\n",
    "from sklearn.datasets import load_iris\n",
    "\n",
    "#Point the model to a variable\n",
    "iris = load_iris()\n",
    "\n",
    "#Print Dataset description\n",
    "print(iris['DESCR'])"
   ]
  },
  {
   "cell_type": "code",
   "execution_count": 2,
   "metadata": {},
   "outputs": [
    {
     "data": {
      "text/plain": [
       "dict_keys(['data', 'target', 'frame', 'target_names', 'DESCR', 'feature_names', 'filename'])"
      ]
     },
     "execution_count": 2,
     "metadata": {},
     "output_type": "execute_result"
    }
   ],
   "source": [
    "iris.keys()"
   ]
  },
  {
   "cell_type": "code",
   "execution_count": 3,
   "metadata": {},
   "outputs": [
    {
     "data": {
      "text/plain": [
       "array(['setosa', 'versicolor', 'virginica'], dtype='<U10')"
      ]
     },
     "execution_count": 3,
     "metadata": {},
     "output_type": "execute_result"
    }
   ],
   "source": [
    "iris.target_names\n"
   ]
  },
  {
   "cell_type": "code",
   "execution_count": 4,
   "metadata": {},
   "outputs": [],
   "source": [
    "#The classifications model possess three alternative class"
   ]
  },
  {
   "cell_type": "code",
   "execution_count": 5,
   "metadata": {},
   "outputs": [
    {
     "data": {
      "text/plain": [
       "(150, 4)"
      ]
     },
     "execution_count": 5,
     "metadata": {},
     "output_type": "execute_result"
    }
   ],
   "source": [
    "#Checking the dataset shape\n",
    "iris.data.shape"
   ]
  },
  {
   "cell_type": "code",
   "execution_count": 6,
   "metadata": {},
   "outputs": [],
   "source": [
    "#Spitting the model into training and testing datasets\n",
    "from sklearn.model_selection import train_test_split\n",
    "\n",
    "X_train, X_test, Y_train, Y_test = train_test_split(iris.data, iris.target, random_state=0)\n"
   ]
  },
  {
   "cell_type": "code",
   "execution_count": 7,
   "metadata": {},
   "outputs": [
    {
     "name": "stdout",
     "output_type": "stream",
     "text": [
      "(112, 4)\n",
      "(112,)\n"
     ]
    }
   ],
   "source": [
    "#Checking the training dataset shape\n",
    "print(X_train.shape)\n",
    "print(Y_train.shape)"
   ]
  },
  {
   "cell_type": "code",
   "execution_count": 9,
   "metadata": {},
   "outputs": [
    {
     "name": "stdout",
     "output_type": "stream",
     "text": [
      "0.9736842105263158\n"
     ]
    },
    {
     "name": "stderr",
     "output_type": "stream",
     "text": [
      "C:\\Users\\charl\\anaconda3\\lib\\site-packages\\sklearn\\linear_model\\_logistic.py:762: ConvergenceWarning: lbfgs failed to converge (status=1):\n",
      "STOP: TOTAL NO. of ITERATIONS REACHED LIMIT.\n",
      "\n",
      "Increase the number of iterations (max_iter) or scale the data as shown in:\n",
      "    https://scikit-learn.org/stable/modules/preprocessing.html\n",
      "Please also refer to the documentation for alternative solver options:\n",
      "    https://scikit-learn.org/stable/modules/linear_model.html#logistic-regression\n",
      "  n_iter_i = _check_optimize_result(\n"
     ]
    }
   ],
   "source": [
    "#Testing the classification with a Logistic Regression Module\n",
    "from sklearn.linear_model import LogisticRegression\n",
    "\n",
    "#Pointing the model to a variable\n",
    "logreg = LogisticRegression()\n",
    "\n",
    "#Fitting the model to training datasets\n",
    "logreg.fit(X_train, Y_train)\n",
    "\n",
    "#Outputting scores\n",
    "print(logreg.score(X_test, Y_test))"
   ]
  },
  {
   "cell_type": "code",
   "execution_count": 10,
   "metadata": {},
   "outputs": [
    {
     "name": "stderr",
     "output_type": "stream",
     "text": [
      "No handles with labels found to put in legend.\n"
     ]
    },
    {
     "data": {
      "text/plain": [
       "<matplotlib.legend.Legend at 0x1271842f070>"
      ]
     },
     "execution_count": 10,
     "metadata": {},
     "output_type": "execute_result"
    },
    {
     "data": {
      "image/png": "[encoded data removed]",
      "text/plain": [
       "<Figure size 432x288 with 1 Axes>"
      ]
     },
     "metadata": {},
     "output_type": "display_data"
    }
   ],
   "source": [
    "#Plotting Feature Importance for Logistic Regression Model\n",
    "plt.plot(logreg.coef_.T, 'o')\n",
    "plt.xticks(range(iris.data.shape[1]), iris.feature_names, rotation=90)\n",
    "xlims = plt.xlim()\n",
    "plt.hlines(0, xlims[0], xlims[1])\n",
    "plt.xlim(xlims)\n",
    "plt.ylim(-5, 5)\n",
    "plt.xlabel(\"Feature\")\n",
    "plt.ylabel(\"Coefficient magnitude\")\n",
    "plt.legend()\n"
   ]
  },
  {
   "cell_type": "code",
   "execution_count": 14,
   "metadata": {},
   "outputs": [
    {
     "name": "stdout",
     "output_type": "stream",
     "text": [
      "X_train scaled : [[0.44444444 0.41666667 0.53448276 0.58333333]\n",
      " [0.41666667 0.25       0.5        0.45833333]\n",
      " [0.69444444 0.41666667 0.75862069 0.83333333]\n",
      " [0.11111111 0.5        0.03448276 0.04166667]\n",
      " [0.72222222 0.45833333 0.68965517 0.91666667]\n",
      " [0.19444444 0.625      0.0862069  0.20833333]\n",
      " [0.30555556 0.70833333 0.06896552 0.04166667]\n",
      " [0.19444444 0.         0.4137931  0.375     ]\n",
      " [0.61111111 0.41666667 0.75862069 0.70833333]\n",
      " [0.66666667 0.54166667 0.79310345 1.        ]\n",
      " [0.47222222 0.08333333 0.67241379 0.58333333]\n",
      " [0.66666667 0.20833333 0.81034483 0.70833333]\n",
      " [0.36111111 0.20833333 0.48275862 0.41666667]\n",
      " [0.94444444 0.41666667 0.86206897 0.91666667]\n",
      " [0.55555556 0.54166667 0.62068966 0.625     ]\n",
      " [0.33333333 0.16666667 0.46551724 0.41666667]\n",
      " [0.55555556 0.29166667 0.65517241 0.70833333]\n",
      " [0.55555556 0.33333333 0.68965517 0.58333333]\n",
      " [0.16666667 0.20833333 0.5862069  0.66666667]\n",
      " [0.55555556 0.20833333 0.67241379 0.75      ]\n",
      " [0.75       0.5        0.62068966 0.54166667]\n",
      " [0.61111111 0.41666667 0.70689655 0.79166667]\n",
      " [0.47222222 0.58333333 0.5862069  0.625     ]\n",
      " [0.13888889 0.45833333 0.0862069  0.04166667]\n",
      " [0.41666667 0.29166667 0.68965517 0.75      ]\n",
      " [0.36111111 0.29166667 0.53448276 0.5       ]\n",
      " [0.36111111 0.375      0.43103448 0.5       ]\n",
      " [0.33333333 0.20833333 0.5        0.5       ]\n",
      " [0.5        0.41666667 0.60344828 0.54166667]\n",
      " [0.80555556 0.5        0.84482759 0.70833333]\n",
      " [0.27777778 0.70833333 0.06896552 0.04166667]\n",
      " [0.         0.41666667 0.         0.        ]\n",
      " [0.58333333 0.29166667 0.72413793 0.75      ]\n",
      " [0.38888889 0.41666667 0.53448276 0.45833333]\n",
      " [0.30555556 0.58333333 0.10344828 0.04166667]\n",
      " [0.38888889 1.         0.06896552 0.125     ]\n",
      " [0.72222222 0.45833333 0.65517241 0.58333333]\n",
      " [0.08333333 0.45833333 0.06896552 0.04166667]\n",
      " [0.44444444 0.41666667 0.68965517 0.70833333]\n",
      " [0.22222222 0.20833333 0.32758621 0.41666667]\n",
      " [0.08333333 0.58333333 0.05172414 0.08333333]\n",
      " [0.52777778 0.08333333 0.5862069  0.58333333]\n",
      " [0.80555556 0.66666667 0.86206897 1.        ]\n",
      " [0.38888889 0.375      0.53448276 0.5       ]\n",
      " [0.13888889 0.41666667 0.05172414 0.        ]\n",
      " [0.77777778 0.41666667 0.82758621 0.83333333]\n",
      " [0.72222222 0.5        0.79310345 0.91666667]\n",
      " [0.61111111 0.41666667 0.81034483 0.875     ]\n",
      " [0.58333333 0.33333333 0.77586207 0.83333333]\n",
      " [0.22222222 0.75       0.0862069  0.04166667]\n",
      " [0.13888889 0.58333333 0.0862069  0.04166667]\n",
      " [0.61111111 0.5        0.68965517 0.79166667]\n",
      " [0.66666667 0.54166667 0.79310345 0.83333333]\n",
      " [0.05555556 0.125      0.03448276 0.08333333]\n",
      " [0.52777778 0.58333333 0.74137931 0.91666667]\n",
      " [0.16666667 0.41666667 0.05172414 0.04166667]\n",
      " [0.38888889 0.20833333 0.67241379 0.79166667]\n",
      " [0.72222222 0.45833333 0.74137931 0.83333333]\n",
      " [0.02777778 0.5        0.03448276 0.04166667]\n",
      " [0.19444444 0.66666667 0.05172414 0.04166667]\n",
      " [0.80555556 0.41666667 0.81034483 0.625     ]\n",
      " [0.22222222 0.625      0.05172414 0.08333333]\n",
      " [0.02777778 0.41666667 0.03448276 0.04166667]\n",
      " [0.30555556 0.79166667 0.10344828 0.125     ]\n",
      " [0.33333333 0.125      0.5        0.5       ]\n",
      " [0.69444444 0.5        0.82758621 0.91666667]\n",
      " [0.91666667 0.41666667 0.94827586 0.83333333]\n",
      " [0.22222222 0.625      0.05172414 0.04166667]\n",
      " [0.16666667 0.45833333 0.06896552 0.04166667]\n",
      " [0.25       0.58333333 0.05172414 0.04166667]\n",
      " [0.38888889 0.33333333 0.5862069  0.5       ]\n",
      " [0.63888889 0.41666667 0.56896552 0.54166667]\n",
      " [0.19444444 0.5        0.01724138 0.04166667]\n",
      " [0.22222222 0.54166667 0.10344828 0.16666667]\n",
      " [0.58333333 0.375      0.55172414 0.5       ]\n",
      " [0.30555556 0.58333333 0.06896552 0.125     ]\n",
      " [0.94444444 0.25       1.         0.91666667]\n",
      " [0.16666667 0.16666667 0.37931034 0.375     ]\n",
      " [1.         0.75       0.9137931  0.79166667]\n",
      " [0.66666667 0.45833333 0.56896552 0.54166667]\n",
      " [0.25       0.875      0.06896552 0.        ]\n",
      " [0.47222222 0.41666667 0.63793103 0.70833333]\n",
      " [0.41666667 0.83333333 0.01724138 0.04166667]\n",
      " [0.94444444 0.33333333 0.96551724 0.79166667]\n",
      " [0.22222222 0.75       0.06896552 0.08333333]\n",
      " [0.11111111 0.5        0.0862069  0.04166667]\n",
      " [0.86111111 0.33333333 0.86206897 0.75      ]\n",
      " [0.19444444 0.54166667 0.05172414 0.04166667]\n",
      " [0.55555556 0.58333333 0.77586207 0.95833333]\n",
      " [0.38888889 0.33333333 0.51724138 0.5       ]\n",
      " [0.41666667 0.29166667 0.48275862 0.45833333]\n",
      " [0.38888889 0.25       0.4137931  0.375     ]\n",
      " [0.58333333 0.5        0.72413793 0.91666667]\n",
      " [0.66666667 0.41666667 0.70689655 0.91666667]\n",
      " [0.55555556 0.20833333 0.65517241 0.58333333]\n",
      " [0.66666667 0.41666667 0.67241379 0.66666667]\n",
      " [0.19444444 0.41666667 0.0862069  0.04166667]\n",
      " [0.33333333 0.16666667 0.44827586 0.375     ]\n",
      " [0.66666667 0.45833333 0.77586207 0.95833333]\n",
      " [0.41666667 0.29166667 0.68965517 0.75      ]\n",
      " [0.22222222 0.58333333 0.06896552 0.04166667]\n",
      " [0.63888889 0.375      0.60344828 0.5       ]\n",
      " [0.36111111 0.41666667 0.51724138 0.5       ]\n",
      " [0.44444444 0.5        0.63793103 0.70833333]\n",
      " [0.55555556 0.125      0.56896552 0.5       ]\n",
      " [0.33333333 0.625      0.03448276 0.04166667]\n",
      " [0.22222222 0.70833333 0.06896552 0.125     ]\n",
      " [0.16666667 0.45833333 0.06896552 0.        ]\n",
      " [0.55555556 0.375      0.77586207 0.70833333]\n",
      " [0.41666667 0.29166667 0.51724138 0.375     ]\n",
      " [0.94444444 0.75       0.96551724 0.875     ]\n",
      " [0.08333333 0.5        0.05172414 0.04166667]]\n",
      "X_test scaled: [[0.48275862 0.3        0.77358491 0.95833333]\n",
      " [0.55172414 0.         0.56603774 0.375     ]\n",
      " [0.37931034 1.         0.0754717  0.04166667]\n",
      " [1.         0.35       1.         0.70833333]\n",
      " [0.20689655 0.6        0.09433962 0.04166667]\n",
      " [0.65517241 0.55       0.94339623 1.        ]\n",
      " [0.20689655 0.65       0.05660377 0.08333333]\n",
      " [0.79310345 0.45       0.69811321 0.58333333]\n",
      " [0.82758621 0.3        0.71698113 0.54166667]\n",
      " [0.5862069  0.3        0.56603774 0.5       ]\n",
      " [0.5862069  0.2        0.86792453 0.54166667]\n",
      " [0.68965517 0.5        0.66037736 0.58333333]\n",
      " [0.5862069  0.3        0.69811321 0.45833333]\n",
      " [0.72413793 0.3        0.67924528 0.58333333]\n",
      " [0.5862069  0.35       0.69811321 0.54166667]\n",
      " [0.17241379 0.7        0.0754717  0.        ]\n",
      " [0.55172414 0.35       0.66037736 0.58333333]\n",
      " [0.37931034 0.2        0.64150943 0.45833333]\n",
      " [0.13793103 0.4        0.0754717  0.08333333]\n",
      " [0.34482759 0.85       0.05660377 0.125     ]\n",
      " [0.4137931  0.3        0.73584906 0.79166667]\n",
      " [0.4137931  0.4        0.66037736 0.58333333]\n",
      " [0.13793103 0.6        0.16981132 0.04166667]\n",
      " [0.         0.35       0.0754717  0.04166667]\n",
      " [0.62068966 0.3        0.71698113 0.70833333]\n",
      " [0.06896552 0.7        0.         0.04166667]\n",
      " [0.24137931 0.8        0.16981132 0.125     ]\n",
      " [0.62068966 0.35       0.62264151 0.5       ]\n",
      " [0.20689655 0.05       0.43396226 0.375     ]\n",
      " [0.20689655 0.6        0.11320755 0.125     ]\n",
      " [0.68965517 0.45       0.8490566  0.70833333]\n",
      " [0.34482759 0.4        0.66037736 0.58333333]\n",
      " [0.27586207 0.65       0.09433962 0.04166667]\n",
      " [0.5862069  0.4        0.73584906 0.70833333]\n",
      " [0.68965517 0.3        0.86792453 0.875     ]\n",
      " [0.27586207 0.25       0.54716981 0.54166667]\n",
      " [0.44827586 0.8        0.13207547 0.08333333]\n",
      " [0.55172414 0.25       0.77358491 0.625     ]]\n"
     ]
    }
   ],
   "source": [
    "#Importing the scaler to Normalize the training and testing datasets\n",
    "from sklearn.preprocessing import MinMaxScaler\n",
    "\n",
    "#Pointing the model to a variable\n",
    "scaler = MinMaxScaler()\n",
    "\n",
    "#Transforming the X_Train and X_test datasets\n",
    "X_train_scaled = scaler.fit_transform(X_train)\n",
    "X_test_scaled = scaler.fit_transform(X_test)\n",
    "\n",
    "#Outputting the scaled datasets for testing purpose\n",
    "print(\"X_train scaled :\", X_train_scaled)\n",
    "print(\"X_test scaled:\", X_test_scaled)"
   ]
  },
  {
   "cell_type": "code",
   "execution_count": 15,
   "metadata": {},
   "outputs": [
    {
     "name": "stdout",
     "output_type": "stream",
     "text": [
      "0.8157894736842105\n"
     ]
    }
   ],
   "source": [
    "#Training the model with normalize data\n",
    "logreg.fit(X_train_scaled, Y_train)\n",
    "\n",
    "#Outputting scores\n",
    "print(logreg.score(X_test_scaled,  Y_test))"
   ]
  },
  {
   "cell_type": "code",
   "execution_count": 16,
   "metadata": {},
   "outputs": [],
   "source": [
    "#Logistic Regression did not perform better with normalized data"
   ]
  },
  {
   "cell_type": "code",
   "execution_count": 17,
   "metadata": {},
   "outputs": [],
   "source": [
    "#Try Standard Scaler\n",
    "from sklearn.preprocessing import StandardScaler\n",
    "\n",
    "scaler = StandardScaler()\n",
    "\n",
    "#Fitting the model to training datasets\n",
    "scaler.fit(X_train, Y_train)\n",
    "\n",
    "#Transforming the X_train and X_test datasets\n",
    "X_train_scalled =scaler.transform(X_train)\n",
    "\n",
    "X_test_scalled = scaler.transform(X_test)"
   ]
  },
  {
   "cell_type": "code",
   "execution_count": 18,
   "metadata": {},
   "outputs": [
    {
     "data": {
      "text/plain": [
       "0.9736842105263158"
      ]
     },
     "execution_count": 18,
     "metadata": {},
     "output_type": "execute_result"
    }
   ],
   "source": [
    "#training  the model with scaled data\n",
    "logreg.fit(X_train_scalled, Y_train)\n",
    "logreg.score(X_test_scalled, Y_test)"
   ]
  },
  {
   "cell_type": "code",
   "execution_count": 19,
   "metadata": {},
   "outputs": [
    {
     "name": "stderr",
     "output_type": "stream",
     "text": [
      "C:\\Users\\charl\\anaconda3\\lib\\site-packages\\sklearn\\linear_model\\_logistic.py:762: ConvergenceWarning: lbfgs failed to converge (status=1):\n",
      "STOP: TOTAL NO. of ITERATIONS REACHED LIMIT.\n",
      "\n",
      "Increase the number of iterations (max_iter) or scale the data as shown in:\n",
      "    https://scikit-learn.org/stable/modules/preprocessing.html\n",
      "Please also refer to the documentation for alternative solver options:\n",
      "    https://scikit-learn.org/stable/modules/linear_model.html#logistic-regression\n",
      "  n_iter_i = _check_optimize_result(\n"
     ]
    },
    {
     "name": "stdout",
     "output_type": "stream",
     "text": [
      "[0.96666667 1.         0.93333333 0.96666667 1.        ]\n"
     ]
    }
   ],
   "source": [
    "#Analyzing predictions score with cross_val_score \n",
    "\n",
    "from sklearn.model_selection import cross_val_score\n",
    "\n",
    "cross = cross_val_score(logreg, iris.data, iris.target, cv=5)\n",
    "print(cross)"
   ]
  },
  {
   "cell_type": "code",
   "execution_count": 20,
   "metadata": {},
   "outputs": [
    {
     "data": {
      "text/plain": [
       "0.9736842105263158"
      ]
     },
     "execution_count": 20,
     "metadata": {},
     "output_type": "execute_result"
    }
   ],
   "source": [
    "#Making predictions with KNeighbors Classifier\n",
    "from sklearn.neighbors import KNeighborsClassifier\n",
    "\n",
    "#Pointing the model to a variable\n",
    "KN = KNeighborsClassifier(n_neighbors=3)\n",
    "\n",
    "#Fitting the training data\n",
    "KN.fit(X_train, Y_train)\n",
    "\n",
    "#outputting the score\n",
    "KN.score(X_test,  Y_test)\n"
   ]
  },
  {
   "cell_type": "code",
   "execution_count": 21,
   "metadata": {},
   "outputs": [
    {
     "data": {
      "text/plain": [
       "0.9736842105263158"
      ]
     },
     "execution_count": 21,
     "metadata": {},
     "output_type": "execute_result"
    }
   ],
   "source": [
    "#Training the model with normalized data\n",
    "KN.fit(X_train_scaled, Y_train)\n",
    "\n",
    "#Outputting scores\n",
    "KN.score(X_test_scaled, Y_test)"
   ]
  },
  {
   "cell_type": "code",
   "execution_count": 22,
   "metadata": {},
   "outputs": [],
   "source": [
    "#Normalizing the data doesn't make any difference"
   ]
  },
  {
   "cell_type": "code",
   "execution_count": 23,
   "metadata": {},
   "outputs": [
    {
     "data": {
      "text/plain": [
       "0.9736842105263158"
      ]
     },
     "execution_count": 23,
     "metadata": {},
     "output_type": "execute_result"
    }
   ],
   "source": [
    "#Making predictions with MLP Classifier\n",
    "from sklearn.neural_network import MLPClassifier\n",
    "\n",
    "mlp = MLPClassifier(hidden_layer_sizes=(10, 10, 10), max_iter=1000)\n",
    "mlp.fit(X_train, Y_train)\n",
    "\n",
    "mlp.score(X_test, Y_test)"
   ]
  },
  {
   "cell_type": "code",
   "execution_count": 25,
   "metadata": {},
   "outputs": [
    {
     "name": "stdout",
     "output_type": "stream",
     "text": [
      "[1.   0.98 0.98]\n"
     ]
    }
   ],
   "source": [
    "#Checking the scores with cross_val_score and Accuracy_score\n",
    "cross = cross_val_score(mlp, iris.data, iris.target, cv =3)\n",
    "print(cross)"
   ]
  },
  {
   "cell_type": "code",
   "execution_count": 29,
   "metadata": {
    "collapsed": true
   },
   "outputs": [
    {
     "ename": "ValueError",
     "evalue": "Found input variables with inconsistent numbers of samples: [112, 38]",
     "output_type": "error",
     "traceback": [
      "\u001b[1;31m---------------------------------------------------------------------------\u001b[0m",
      "\u001b[1;31mValueError\u001b[0m                                Traceback (most recent call last)",
      "\u001b[1;32m<ipython-input-29-3756b0eeade6>\u001b[0m in \u001b[0;36m<module>\u001b[1;34m\u001b[0m\n\u001b[0;32m      2\u001b[0m \u001b[1;33m\u001b[0m\u001b[0m\n\u001b[0;32m      3\u001b[0m \u001b[0mpred\u001b[0m \u001b[1;33m=\u001b[0m  \u001b[0mmlp\u001b[0m\u001b[1;33m.\u001b[0m\u001b[0mpredict\u001b[0m\u001b[1;33m(\u001b[0m\u001b[0mX_train\u001b[0m\u001b[1;33m)\u001b[0m\u001b[1;33m\u001b[0m\u001b[1;33m\u001b[0m\u001b[0m\n\u001b[1;32m----> 4\u001b[1;33m \u001b[0macc\u001b[0m \u001b[1;33m=\u001b[0m \u001b[0maccuracy_score\u001b[0m\u001b[1;33m(\u001b[0m\u001b[0mpred\u001b[0m\u001b[1;33m,\u001b[0m \u001b[0mY_test\u001b[0m\u001b[1;33m)\u001b[0m\u001b[1;33m\u001b[0m\u001b[1;33m\u001b[0m\u001b[0m\n\u001b[0m",
      "\u001b[1;32m~\\anaconda3\\lib\\site-packages\\sklearn\\utils\\validation.py\u001b[0m in \u001b[0;36minner_f\u001b[1;34m(*args, **kwargs)\u001b[0m\n\u001b[0;32m     70\u001b[0m                           FutureWarning)\n\u001b[0;32m     71\u001b[0m         \u001b[0mkwargs\u001b[0m\u001b[1;33m.\u001b[0m\u001b[0mupdate\u001b[0m\u001b[1;33m(\u001b[0m\u001b[1;33m{\u001b[0m\u001b[0mk\u001b[0m\u001b[1;33m:\u001b[0m \u001b[0marg\u001b[0m \u001b[1;32mfor\u001b[0m \u001b[0mk\u001b[0m\u001b[1;33m,\u001b[0m \u001b[0marg\u001b[0m \u001b[1;32min\u001b[0m \u001b[0mzip\u001b[0m\u001b[1;33m(\u001b[0m\u001b[0msig\u001b[0m\u001b[1;33m.\u001b[0m\u001b[0mparameters\u001b[0m\u001b[1;33m,\u001b[0m \u001b[0margs\u001b[0m\u001b[1;33m)\u001b[0m\u001b[1;33m}\u001b[0m\u001b[1;33m)\u001b[0m\u001b[1;33m\u001b[0m\u001b[1;33m\u001b[0m\u001b[0m\n\u001b[1;32m---> 72\u001b[1;33m         \u001b[1;32mreturn\u001b[0m \u001b[0mf\u001b[0m\u001b[1;33m(\u001b[0m\u001b[1;33m**\u001b[0m\u001b[0mkwargs\u001b[0m\u001b[1;33m)\u001b[0m\u001b[1;33m\u001b[0m\u001b[1;33m\u001b[0m\u001b[0m\n\u001b[0m\u001b[0;32m     73\u001b[0m     \u001b[1;32mreturn\u001b[0m \u001b[0minner_f\u001b[0m\u001b[1;33m\u001b[0m\u001b[1;33m\u001b[0m\u001b[0m\n\u001b[0;32m     74\u001b[0m \u001b[1;33m\u001b[0m\u001b[0m\n",
      "\u001b[1;32m~\\anaconda3\\lib\\site-packages\\sklearn\\metrics\\_classification.py\u001b[0m in \u001b[0;36maccuracy_score\u001b[1;34m(y_true, y_pred, normalize, sample_weight)\u001b[0m\n\u001b[0;32m    185\u001b[0m \u001b[1;33m\u001b[0m\u001b[0m\n\u001b[0;32m    186\u001b[0m     \u001b[1;31m# Compute accuracy for each possible representation\u001b[0m\u001b[1;33m\u001b[0m\u001b[1;33m\u001b[0m\u001b[1;33m\u001b[0m\u001b[0m\n\u001b[1;32m--> 187\u001b[1;33m     \u001b[0my_type\u001b[0m\u001b[1;33m,\u001b[0m \u001b[0my_true\u001b[0m\u001b[1;33m,\u001b[0m \u001b[0my_pred\u001b[0m \u001b[1;33m=\u001b[0m \u001b[0m_check_targets\u001b[0m\u001b[1;33m(\u001b[0m\u001b[0my_true\u001b[0m\u001b[1;33m,\u001b[0m \u001b[0my_pred\u001b[0m\u001b[1;33m)\u001b[0m\u001b[1;33m\u001b[0m\u001b[1;33m\u001b[0m\u001b[0m\n\u001b[0m\u001b[0;32m    188\u001b[0m     \u001b[0mcheck_consistent_length\u001b[0m\u001b[1;33m(\u001b[0m\u001b[0my_true\u001b[0m\u001b[1;33m,\u001b[0m \u001b[0my_pred\u001b[0m\u001b[1;33m,\u001b[0m \u001b[0msample_weight\u001b[0m\u001b[1;33m)\u001b[0m\u001b[1;33m\u001b[0m\u001b[1;33m\u001b[0m\u001b[0m\n\u001b[0;32m    189\u001b[0m     \u001b[1;32mif\u001b[0m \u001b[0my_type\u001b[0m\u001b[1;33m.\u001b[0m\u001b[0mstartswith\u001b[0m\u001b[1;33m(\u001b[0m\u001b[1;34m'multilabel'\u001b[0m\u001b[1;33m)\u001b[0m\u001b[1;33m:\u001b[0m\u001b[1;33m\u001b[0m\u001b[1;33m\u001b[0m\u001b[0m\n",
      "\u001b[1;32m~\\anaconda3\\lib\\site-packages\\sklearn\\metrics\\_classification.py\u001b[0m in \u001b[0;36m_check_targets\u001b[1;34m(y_true, y_pred)\u001b[0m\n\u001b[0;32m     79\u001b[0m     \u001b[0my_pred\u001b[0m \u001b[1;33m:\u001b[0m \u001b[0marray\u001b[0m \u001b[1;32mor\u001b[0m \u001b[0mindicator\u001b[0m \u001b[0mmatrix\u001b[0m\u001b[1;33m\u001b[0m\u001b[1;33m\u001b[0m\u001b[0m\n\u001b[0;32m     80\u001b[0m     \"\"\"\n\u001b[1;32m---> 81\u001b[1;33m     \u001b[0mcheck_consistent_length\u001b[0m\u001b[1;33m(\u001b[0m\u001b[0my_true\u001b[0m\u001b[1;33m,\u001b[0m \u001b[0my_pred\u001b[0m\u001b[1;33m)\u001b[0m\u001b[1;33m\u001b[0m\u001b[1;33m\u001b[0m\u001b[0m\n\u001b[0m\u001b[0;32m     82\u001b[0m     \u001b[0mtype_true\u001b[0m \u001b[1;33m=\u001b[0m \u001b[0mtype_of_target\u001b[0m\u001b[1;33m(\u001b[0m\u001b[0my_true\u001b[0m\u001b[1;33m)\u001b[0m\u001b[1;33m\u001b[0m\u001b[1;33m\u001b[0m\u001b[0m\n\u001b[0;32m     83\u001b[0m     \u001b[0mtype_pred\u001b[0m \u001b[1;33m=\u001b[0m \u001b[0mtype_of_target\u001b[0m\u001b[1;33m(\u001b[0m\u001b[0my_pred\u001b[0m\u001b[1;33m)\u001b[0m\u001b[1;33m\u001b[0m\u001b[1;33m\u001b[0m\u001b[0m\n",
      "\u001b[1;32m~\\anaconda3\\lib\\site-packages\\sklearn\\utils\\validation.py\u001b[0m in \u001b[0;36mcheck_consistent_length\u001b[1;34m(*arrays)\u001b[0m\n\u001b[0;32m    253\u001b[0m     \u001b[0muniques\u001b[0m \u001b[1;33m=\u001b[0m \u001b[0mnp\u001b[0m\u001b[1;33m.\u001b[0m\u001b[0munique\u001b[0m\u001b[1;33m(\u001b[0m\u001b[0mlengths\u001b[0m\u001b[1;33m)\u001b[0m\u001b[1;33m\u001b[0m\u001b[1;33m\u001b[0m\u001b[0m\n\u001b[0;32m    254\u001b[0m     \u001b[1;32mif\u001b[0m \u001b[0mlen\u001b[0m\u001b[1;33m(\u001b[0m\u001b[0muniques\u001b[0m\u001b[1;33m)\u001b[0m \u001b[1;33m>\u001b[0m \u001b[1;36m1\u001b[0m\u001b[1;33m:\u001b[0m\u001b[1;33m\u001b[0m\u001b[1;33m\u001b[0m\u001b[0m\n\u001b[1;32m--> 255\u001b[1;33m         raise ValueError(\"Found input variables with inconsistent numbers of\"\n\u001b[0m\u001b[0;32m    256\u001b[0m                          \" samples: %r\" % [int(l) for l in lengths])\n\u001b[0;32m    257\u001b[0m \u001b[1;33m\u001b[0m\u001b[0m\n",
      "\u001b[1;31mValueError\u001b[0m: Found input variables with inconsistent numbers of samples: [112, 38]"
     ]
    }
   ],
   "source": [
    "from sklearn.metrics import accuracy_score\n",
    "\n",
    "pred =  mlp.predict(X_train)\n",
    "acc = accuracy_score(pred, Y_test)"
   ]
  },
  {
   "cell_type": "code",
   "execution_count": 32,
   "metadata": {},
   "outputs": [
    {
     "data": {
      "text/plain": [
       "0.9736842105263158"
      ]
     },
     "execution_count": 32,
     "metadata": {},
     "output_type": "execute_result"
    }
   ],
   "source": [
    "#Using Random Forest Classifier to make predictions\n",
    "from sklearn.ensemble import RandomForestClassifier\n",
    "\n",
    "Rnd = RandomForestClassifier()\n",
    "Rnd.fit(X_train, Y_train)\n",
    "Rnd.score(X_test, Y_test)"
   ]
  },
  {
   "cell_type": "code",
   "execution_count": null,
   "metadata": {},
   "outputs": [],
   "source": []
  }
 ],
 "metadata": {
  "kernelspec": {
   "display_name": "Python 3",
   "language": "python",
   "name": "python3"
  },
  "language_info": {
   "codemirror_mode": {
    "name": "ipython",
    "version": 3
   },
   "file_extension": ".py",
   "mimetype": "text/x-python",
   "name": "python",
   "nbconvert_exporter": "python",
   "pygments_lexer": "ipython3",
   "version": "3.8.5"
  }
 },
 "nbformat": 4,
 "nbformat_minor": 4
}
